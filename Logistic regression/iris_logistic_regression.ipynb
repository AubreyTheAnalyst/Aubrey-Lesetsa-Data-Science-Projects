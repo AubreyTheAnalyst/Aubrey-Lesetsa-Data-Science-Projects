{
 "cells": [
  {
   "cell_type": "markdown",
   "metadata": {},
   "source": [
    "importing libraries"
   ]
  },
  {
   "cell_type": "code",
   "execution_count": 57,
   "metadata": {},
   "outputs": [],
   "source": [
    "import numpy as np\n",
    "import pandas as pd\n",
    "import matplotlib.pyplot as plt\n",
    "from sklearn.datasets import load_iris\n",
    "from sklearn.model_selection import train_test_split\n",
    "from sklearn.linear_model import LogisticRegression\n",
    "from sklearn import preprocessing"
   ]
  },
  {
   "cell_type": "markdown",
   "metadata": {},
   "source": [
    "reading the Iris data set"
   ]
  },
  {
   "cell_type": "code",
   "execution_count": 58,
   "metadata": {},
   "outputs": [
    {
     "data": {
      "application/vnd.microsoft.datawrangler.viewer.v0+json": {
       "columns": [
        {
         "name": "index",
         "rawType": "int64",
         "type": "integer"
        },
        {
         "name": "Id",
         "rawType": "int64",
         "type": "integer"
        },
        {
         "name": "SepalLengthCm",
         "rawType": "float64",
         "type": "float"
        },
        {
         "name": "SepalWidthCm",
         "rawType": "float64",
         "type": "float"
        },
        {
         "name": "PetalLengthCm",
         "rawType": "float64",
         "type": "float"
        },
        {
         "name": "PetalWidthCm",
         "rawType": "float64",
         "type": "float"
        },
        {
         "name": "Species",
         "rawType": "object",
         "type": "string"
        }
       ],
       "ref": "c6cfdace-2a38-4430-847a-e8db07ca9ef4",
       "rows": [
        [
         "0",
         "1",
         "5.1",
         "3.5",
         "1.4",
         "0.2",
         "Iris-setosa"
        ],
        [
         "1",
         "2",
         "4.9",
         "3.0",
         "1.4",
         "0.2",
         "Iris-setosa"
        ],
        [
         "2",
         "3",
         "4.7",
         "3.2",
         "1.3",
         "0.2",
         "Iris-setosa"
        ],
        [
         "3",
         "4",
         "4.6",
         "3.1",
         "1.5",
         "0.2",
         "Iris-setosa"
        ],
        [
         "4",
         "5",
         "5.0",
         "3.6",
         "1.4",
         "0.2",
         "Iris-setosa"
        ],
        [
         "5",
         "6",
         "5.4",
         "3.9",
         "1.7",
         "0.4",
         "Iris-setosa"
        ],
        [
         "6",
         "7",
         "4.6",
         "3.4",
         "1.4",
         "0.3",
         "Iris-setosa"
        ],
        [
         "7",
         "8",
         "5.0",
         "3.4",
         "1.5",
         "0.2",
         "Iris-setosa"
        ],
        [
         "8",
         "9",
         "4.4",
         "2.9",
         "1.4",
         "0.2",
         "Iris-setosa"
        ],
        [
         "9",
         "10",
         "4.9",
         "3.1",
         "1.5",
         "0.1",
         "Iris-setosa"
        ],
        [
         "10",
         "11",
         "5.4",
         "3.7",
         "1.5",
         "0.2",
         "Iris-setosa"
        ],
        [
         "11",
         "12",
         "4.8",
         "3.4",
         "1.6",
         "0.2",
         "Iris-setosa"
        ],
        [
         "12",
         "13",
         "4.8",
         "3.0",
         "1.4",
         "0.1",
         "Iris-setosa"
        ],
        [
         "13",
         "14",
         "4.3",
         "3.0",
         "1.1",
         "0.1",
         "Iris-setosa"
        ],
        [
         "14",
         "15",
         "5.8",
         "4.0",
         "1.2",
         "0.2",
         "Iris-setosa"
        ],
        [
         "15",
         "16",
         "5.7",
         "4.4",
         "1.5",
         "0.4",
         "Iris-setosa"
        ],
        [
         "16",
         "17",
         "5.4",
         "3.9",
         "1.3",
         "0.4",
         "Iris-setosa"
        ],
        [
         "17",
         "18",
         "5.1",
         "3.5",
         "1.4",
         "0.3",
         "Iris-setosa"
        ],
        [
         "18",
         "19",
         "5.7",
         "3.8",
         "1.7",
         "0.3",
         "Iris-setosa"
        ],
        [
         "19",
         "20",
         "5.1",
         "3.8",
         "1.5",
         "0.3",
         "Iris-setosa"
        ],
        [
         "20",
         "21",
         "5.4",
         "3.4",
         "1.7",
         "0.2",
         "Iris-setosa"
        ],
        [
         "21",
         "22",
         "5.1",
         "3.7",
         "1.5",
         "0.4",
         "Iris-setosa"
        ],
        [
         "22",
         "23",
         "4.6",
         "3.6",
         "1.0",
         "0.2",
         "Iris-setosa"
        ],
        [
         "23",
         "24",
         "5.1",
         "3.3",
         "1.7",
         "0.5",
         "Iris-setosa"
        ],
        [
         "24",
         "25",
         "4.8",
         "3.4",
         "1.9",
         "0.2",
         "Iris-setosa"
        ],
        [
         "25",
         "26",
         "5.0",
         "3.0",
         "1.6",
         "0.2",
         "Iris-setosa"
        ],
        [
         "26",
         "27",
         "5.0",
         "3.4",
         "1.6",
         "0.4",
         "Iris-setosa"
        ],
        [
         "27",
         "28",
         "5.2",
         "3.5",
         "1.5",
         "0.2",
         "Iris-setosa"
        ],
        [
         "28",
         "29",
         "5.2",
         "3.4",
         "1.4",
         "0.2",
         "Iris-setosa"
        ],
        [
         "29",
         "30",
         "4.7",
         "3.2",
         "1.6",
         "0.2",
         "Iris-setosa"
        ],
        [
         "30",
         "31",
         "4.8",
         "3.1",
         "1.6",
         "0.2",
         "Iris-setosa"
        ],
        [
         "31",
         "32",
         "5.4",
         "3.4",
         "1.5",
         "0.4",
         "Iris-setosa"
        ],
        [
         "32",
         "33",
         "5.2",
         "4.1",
         "1.5",
         "0.1",
         "Iris-setosa"
        ],
        [
         "33",
         "34",
         "5.5",
         "4.2",
         "1.4",
         "0.2",
         "Iris-setosa"
        ],
        [
         "34",
         "35",
         "4.9",
         "3.1",
         "1.5",
         "0.1",
         "Iris-setosa"
        ],
        [
         "35",
         "36",
         "5.0",
         "3.2",
         "1.2",
         "0.2",
         "Iris-setosa"
        ],
        [
         "36",
         "37",
         "5.5",
         "3.5",
         "1.3",
         "0.2",
         "Iris-setosa"
        ],
        [
         "37",
         "38",
         "4.9",
         "3.1",
         "1.5",
         "0.1",
         "Iris-setosa"
        ],
        [
         "38",
         "39",
         "4.4",
         "3.0",
         "1.3",
         "0.2",
         "Iris-setosa"
        ],
        [
         "39",
         "40",
         "5.1",
         "3.4",
         "1.5",
         "0.2",
         "Iris-setosa"
        ],
        [
         "40",
         "41",
         "5.0",
         "3.5",
         "1.3",
         "0.3",
         "Iris-setosa"
        ],
        [
         "41",
         "42",
         "4.5",
         "2.3",
         "1.3",
         "0.3",
         "Iris-setosa"
        ],
        [
         "42",
         "43",
         "4.4",
         "3.2",
         "1.3",
         "0.2",
         "Iris-setosa"
        ],
        [
         "43",
         "44",
         "5.0",
         "3.5",
         "1.6",
         "0.6",
         "Iris-setosa"
        ],
        [
         "44",
         "45",
         "5.1",
         "3.8",
         "1.9",
         "0.4",
         "Iris-setosa"
        ],
        [
         "45",
         "46",
         "4.8",
         "3.0",
         "1.4",
         "0.3",
         "Iris-setosa"
        ],
        [
         "46",
         "47",
         "5.1",
         "3.8",
         "1.6",
         "0.2",
         "Iris-setosa"
        ],
        [
         "47",
         "48",
         "4.6",
         "3.2",
         "1.4",
         "0.2",
         "Iris-setosa"
        ],
        [
         "48",
         "49",
         "5.3",
         "3.7",
         "1.5",
         "0.2",
         "Iris-setosa"
        ],
        [
         "49",
         "50",
         "5.0",
         "3.3",
         "1.4",
         "0.2",
         "Iris-setosa"
        ]
       ],
       "shape": {
        "columns": 6,
        "rows": 150
       }
      },
      "text/html": [
       "<div>\n",
       "<style scoped>\n",
       "    .dataframe tbody tr th:only-of-type {\n",
       "        vertical-align: middle;\n",
       "    }\n",
       "\n",
       "    .dataframe tbody tr th {\n",
       "        vertical-align: top;\n",
       "    }\n",
       "\n",
       "    .dataframe thead th {\n",
       "        text-align: right;\n",
       "    }\n",
       "</style>\n",
       "<table border=\"1\" class=\"dataframe\">\n",
       "  <thead>\n",
       "    <tr style=\"text-align: right;\">\n",
       "      <th></th>\n",
       "      <th>Id</th>\n",
       "      <th>SepalLengthCm</th>\n",
       "      <th>SepalWidthCm</th>\n",
       "      <th>PetalLengthCm</th>\n",
       "      <th>PetalWidthCm</th>\n",
       "      <th>Species</th>\n",
       "    </tr>\n",
       "  </thead>\n",
       "  <tbody>\n",
       "    <tr>\n",
       "      <th>0</th>\n",
       "      <td>1</td>\n",
       "      <td>5.1</td>\n",
       "      <td>3.5</td>\n",
       "      <td>1.4</td>\n",
       "      <td>0.2</td>\n",
       "      <td>Iris-setosa</td>\n",
       "    </tr>\n",
       "    <tr>\n",
       "      <th>1</th>\n",
       "      <td>2</td>\n",
       "      <td>4.9</td>\n",
       "      <td>3.0</td>\n",
       "      <td>1.4</td>\n",
       "      <td>0.2</td>\n",
       "      <td>Iris-setosa</td>\n",
       "    </tr>\n",
       "    <tr>\n",
       "      <th>2</th>\n",
       "      <td>3</td>\n",
       "      <td>4.7</td>\n",
       "      <td>3.2</td>\n",
       "      <td>1.3</td>\n",
       "      <td>0.2</td>\n",
       "      <td>Iris-setosa</td>\n",
       "    </tr>\n",
       "    <tr>\n",
       "      <th>3</th>\n",
       "      <td>4</td>\n",
       "      <td>4.6</td>\n",
       "      <td>3.1</td>\n",
       "      <td>1.5</td>\n",
       "      <td>0.2</td>\n",
       "      <td>Iris-setosa</td>\n",
       "    </tr>\n",
       "    <tr>\n",
       "      <th>4</th>\n",
       "      <td>5</td>\n",
       "      <td>5.0</td>\n",
       "      <td>3.6</td>\n",
       "      <td>1.4</td>\n",
       "      <td>0.2</td>\n",
       "      <td>Iris-setosa</td>\n",
       "    </tr>\n",
       "    <tr>\n",
       "      <th>...</th>\n",
       "      <td>...</td>\n",
       "      <td>...</td>\n",
       "      <td>...</td>\n",
       "      <td>...</td>\n",
       "      <td>...</td>\n",
       "      <td>...</td>\n",
       "    </tr>\n",
       "    <tr>\n",
       "      <th>145</th>\n",
       "      <td>146</td>\n",
       "      <td>6.7</td>\n",
       "      <td>3.0</td>\n",
       "      <td>5.2</td>\n",
       "      <td>2.3</td>\n",
       "      <td>Iris-virginica</td>\n",
       "    </tr>\n",
       "    <tr>\n",
       "      <th>146</th>\n",
       "      <td>147</td>\n",
       "      <td>6.3</td>\n",
       "      <td>2.5</td>\n",
       "      <td>5.0</td>\n",
       "      <td>1.9</td>\n",
       "      <td>Iris-virginica</td>\n",
       "    </tr>\n",
       "    <tr>\n",
       "      <th>147</th>\n",
       "      <td>148</td>\n",
       "      <td>6.5</td>\n",
       "      <td>3.0</td>\n",
       "      <td>5.2</td>\n",
       "      <td>2.0</td>\n",
       "      <td>Iris-virginica</td>\n",
       "    </tr>\n",
       "    <tr>\n",
       "      <th>148</th>\n",
       "      <td>149</td>\n",
       "      <td>6.2</td>\n",
       "      <td>3.4</td>\n",
       "      <td>5.4</td>\n",
       "      <td>2.3</td>\n",
       "      <td>Iris-virginica</td>\n",
       "    </tr>\n",
       "    <tr>\n",
       "      <th>149</th>\n",
       "      <td>150</td>\n",
       "      <td>5.9</td>\n",
       "      <td>3.0</td>\n",
       "      <td>5.1</td>\n",
       "      <td>1.8</td>\n",
       "      <td>Iris-virginica</td>\n",
       "    </tr>\n",
       "  </tbody>\n",
       "</table>\n",
       "<p>150 rows × 6 columns</p>\n",
       "</div>"
      ],
      "text/plain": [
       "      Id  SepalLengthCm  SepalWidthCm  PetalLengthCm  PetalWidthCm  \\\n",
       "0      1            5.1           3.5            1.4           0.2   \n",
       "1      2            4.9           3.0            1.4           0.2   \n",
       "2      3            4.7           3.2            1.3           0.2   \n",
       "3      4            4.6           3.1            1.5           0.2   \n",
       "4      5            5.0           3.6            1.4           0.2   \n",
       "..   ...            ...           ...            ...           ...   \n",
       "145  146            6.7           3.0            5.2           2.3   \n",
       "146  147            6.3           2.5            5.0           1.9   \n",
       "147  148            6.5           3.0            5.2           2.0   \n",
       "148  149            6.2           3.4            5.4           2.3   \n",
       "149  150            5.9           3.0            5.1           1.8   \n",
       "\n",
       "            Species  \n",
       "0       Iris-setosa  \n",
       "1       Iris-setosa  \n",
       "2       Iris-setosa  \n",
       "3       Iris-setosa  \n",
       "4       Iris-setosa  \n",
       "..              ...  \n",
       "145  Iris-virginica  \n",
       "146  Iris-virginica  \n",
       "147  Iris-virginica  \n",
       "148  Iris-virginica  \n",
       "149  Iris-virginica  \n",
       "\n",
       "[150 rows x 6 columns]"
      ]
     },
     "execution_count": 58,
     "metadata": {},
     "output_type": "execute_result"
    }
   ],
   "source": [
    "iris = pd.read_csv(\"Iris.csv\")\n",
    "iris"
   ]
  },
  {
   "cell_type": "markdown",
   "metadata": {},
   "source": [
    "exploring the dataset"
   ]
  },
  {
   "cell_type": "code",
   "execution_count": 59,
   "metadata": {},
   "outputs": [
    {
     "name": "stdout",
     "output_type": "stream",
     "text": [
      "<class 'pandas.core.frame.DataFrame'>\n",
      "RangeIndex: 150 entries, 0 to 149\n",
      "Data columns (total 6 columns):\n",
      " #   Column         Non-Null Count  Dtype  \n",
      "---  ------         --------------  -----  \n",
      " 0   Id             150 non-null    int64  \n",
      " 1   SepalLengthCm  150 non-null    float64\n",
      " 2   SepalWidthCm   150 non-null    float64\n",
      " 3   PetalLengthCm  150 non-null    float64\n",
      " 4   PetalWidthCm   150 non-null    float64\n",
      " 5   Species        150 non-null    object \n",
      "dtypes: float64(4), int64(1), object(1)\n",
      "memory usage: 7.2+ KB\n"
     ]
    },
    {
     "data": {
      "application/vnd.microsoft.datawrangler.viewer.v0+json": {
       "columns": [
        {
         "name": "index",
         "rawType": "int64",
         "type": "integer"
        },
        {
         "name": "Id",
         "rawType": "int64",
         "type": "integer"
        },
        {
         "name": "SepalLengthCm",
         "rawType": "float64",
         "type": "float"
        },
        {
         "name": "SepalWidthCm",
         "rawType": "float64",
         "type": "float"
        },
        {
         "name": "PetalLengthCm",
         "rawType": "float64",
         "type": "float"
        },
        {
         "name": "PetalWidthCm",
         "rawType": "float64",
         "type": "float"
        },
        {
         "name": "Species",
         "rawType": "object",
         "type": "string"
        }
       ],
       "ref": "c32f1a40-6a49-425b-94b8-362c3ce047fe",
       "rows": [
        [
         "0",
         "1",
         "5.1",
         "3.5",
         "1.4",
         "0.2",
         "Iris-setosa"
        ],
        [
         "1",
         "2",
         "4.9",
         "3.0",
         "1.4",
         "0.2",
         "Iris-setosa"
        ],
        [
         "2",
         "3",
         "4.7",
         "3.2",
         "1.3",
         "0.2",
         "Iris-setosa"
        ],
        [
         "3",
         "4",
         "4.6",
         "3.1",
         "1.5",
         "0.2",
         "Iris-setosa"
        ],
        [
         "4",
         "5",
         "5.0",
         "3.6",
         "1.4",
         "0.2",
         "Iris-setosa"
        ]
       ],
       "shape": {
        "columns": 6,
        "rows": 5
       }
      },
      "text/html": [
       "<div>\n",
       "<style scoped>\n",
       "    .dataframe tbody tr th:only-of-type {\n",
       "        vertical-align: middle;\n",
       "    }\n",
       "\n",
       "    .dataframe tbody tr th {\n",
       "        vertical-align: top;\n",
       "    }\n",
       "\n",
       "    .dataframe thead th {\n",
       "        text-align: right;\n",
       "    }\n",
       "</style>\n",
       "<table border=\"1\" class=\"dataframe\">\n",
       "  <thead>\n",
       "    <tr style=\"text-align: right;\">\n",
       "      <th></th>\n",
       "      <th>Id</th>\n",
       "      <th>SepalLengthCm</th>\n",
       "      <th>SepalWidthCm</th>\n",
       "      <th>PetalLengthCm</th>\n",
       "      <th>PetalWidthCm</th>\n",
       "      <th>Species</th>\n",
       "    </tr>\n",
       "  </thead>\n",
       "  <tbody>\n",
       "    <tr>\n",
       "      <th>0</th>\n",
       "      <td>1</td>\n",
       "      <td>5.1</td>\n",
       "      <td>3.5</td>\n",
       "      <td>1.4</td>\n",
       "      <td>0.2</td>\n",
       "      <td>Iris-setosa</td>\n",
       "    </tr>\n",
       "    <tr>\n",
       "      <th>1</th>\n",
       "      <td>2</td>\n",
       "      <td>4.9</td>\n",
       "      <td>3.0</td>\n",
       "      <td>1.4</td>\n",
       "      <td>0.2</td>\n",
       "      <td>Iris-setosa</td>\n",
       "    </tr>\n",
       "    <tr>\n",
       "      <th>2</th>\n",
       "      <td>3</td>\n",
       "      <td>4.7</td>\n",
       "      <td>3.2</td>\n",
       "      <td>1.3</td>\n",
       "      <td>0.2</td>\n",
       "      <td>Iris-setosa</td>\n",
       "    </tr>\n",
       "    <tr>\n",
       "      <th>3</th>\n",
       "      <td>4</td>\n",
       "      <td>4.6</td>\n",
       "      <td>3.1</td>\n",
       "      <td>1.5</td>\n",
       "      <td>0.2</td>\n",
       "      <td>Iris-setosa</td>\n",
       "    </tr>\n",
       "    <tr>\n",
       "      <th>4</th>\n",
       "      <td>5</td>\n",
       "      <td>5.0</td>\n",
       "      <td>3.6</td>\n",
       "      <td>1.4</td>\n",
       "      <td>0.2</td>\n",
       "      <td>Iris-setosa</td>\n",
       "    </tr>\n",
       "  </tbody>\n",
       "</table>\n",
       "</div>"
      ],
      "text/plain": [
       "   Id  SepalLengthCm  SepalWidthCm  PetalLengthCm  PetalWidthCm      Species\n",
       "0   1            5.1           3.5            1.4           0.2  Iris-setosa\n",
       "1   2            4.9           3.0            1.4           0.2  Iris-setosa\n",
       "2   3            4.7           3.2            1.3           0.2  Iris-setosa\n",
       "3   4            4.6           3.1            1.5           0.2  Iris-setosa\n",
       "4   5            5.0           3.6            1.4           0.2  Iris-setosa"
      ]
     },
     "execution_count": 59,
     "metadata": {},
     "output_type": "execute_result"
    }
   ],
   "source": [
    "iris.info()\n",
    "iris.shape\n",
    "iris.describe()\n",
    "iris.head()"
   ]
  },
  {
   "cell_type": "markdown",
   "metadata": {},
   "source": [
    "independent variables (x) and dependent variables (y)"
   ]
  },
  {
   "cell_type": "code",
   "execution_count": 60,
   "metadata": {},
   "outputs": [],
   "source": [
    "# Identifying independent variables x.\n",
    "X = iris.iloc[:, 1:5].values\n",
    "# Identifying dependent variable y.\n",
    "y = iris.iloc[:, 5].values\n",
    "\n",
    "# scale the data so that it is easier to fit\n",
    "X = X.reshape(-1, 4)\n",
    "X = preprocessing.scale(X) \n"
   ]
  },
  {
   "cell_type": "markdown",
   "metadata": {},
   "source": [
    "Encoding dependent variable y "
   ]
  },
  {
   "cell_type": "code",
   "execution_count": 61,
   "metadata": {},
   "outputs": [],
   "source": [
    "y_binary = np.where(y == 'Iris-setosa', 0, 1)\n"
   ]
  },
  {
   "cell_type": "markdown",
   "metadata": {},
   "source": [
    "Splitting the data into a training and test set."
   ]
  },
  {
   "cell_type": "code",
   "execution_count": 62,
   "metadata": {},
   "outputs": [],
   "source": [
    "x_train, x_test, y_train, y_test = train_test_split(x, y_binary, test_size=0.2, random_state=0)\n"
   ]
  },
  {
   "cell_type": "markdown",
   "metadata": {},
   "source": [
    "Using sklearn’s logistic regression function to fit a model and make predictions on the test set"
   ]
  },
  {
   "cell_type": "code",
   "execution_count": 63,
   "metadata": {},
   "outputs": [],
   "source": [
    "model = LogisticRegression()\n",
    "model.fit(x_train, y_train)\n",
    "y_pred = model.predict(x_test)\n"
   ]
  },
  {
   "cell_type": "markdown",
   "metadata": {},
   "source": [
    "Using sklearn to generate a confusion matrix, which compares the predicted labels to the actual labels"
   ]
  },
  {
   "cell_type": "code",
   "execution_count": 64,
   "metadata": {},
   "outputs": [
    {
     "name": "stdout",
     "output_type": "stream",
     "text": [
      "Confusion Matrix: [[11  0]\n",
      " [ 0 19]]\n"
     ]
    }
   ],
   "source": [
    "from sklearn.metrics import confusion_matrix\n",
    "cm = confusion_matrix(y_test, y_pred)\n",
    "print(\"Confusion Matrix:\",cm)\n"
   ]
  },
  {
   "cell_type": "markdown",
   "metadata": {},
   "source": [
    "Confusion Matrix analysis:"
   ]
  },
  {
   "cell_type": "markdown",
   "metadata": {},
   "source": [
    "Confusion matrix analysis:\n",
    "11 samples of Iris-setosa were correctly predicted as Setosa.\n",
    "19 samples of Iris-versicolor or Iris-virginica were correctly predicted as Not-Setosa.\n",
    "0 misclassifications — no false positives or false negatives\n",
    "Therefore, the model is very accurate in predicting the Iris-setosa species and likely to categorize other species correctly as well.\n",
    "Overall, the model has a high accuracy rate, as it correctly classified all species"
   ]
  },
  {
   "cell_type": "markdown",
   "metadata": {},
   "source": [
    "code to calculate the accuracy, precision, and recall, and check whether prediction was correct"
   ]
  },
  {
   "cell_type": "code",
   "execution_count": null,
   "metadata": {},
   "outputs": [
    {
     "name": "stdout",
     "output_type": "stream",
     "text": [
      "Accuracy: 1.0\n",
      "Precision: 1.0\n",
      "Recall: 1.0\n"
     ]
    }
   ],
   "source": [
    "from sklearn.metrics import accuracy_score, precision_score, recall_score\n",
    "accuracy = accuracy_score(y_test, y_pred)\n",
    "precision = precision_score(y_test, y_pred)\n",
    "recall = recall_score(y_test, y_pred)\n",
    "print(f\"Accuracy: {accuracy}\")\n",
    "print(f\"Precision: {precision}\")\n",
    "print(f\"Recall: {recall}\")"
   ]
  }
 ],
 "metadata": {
  "kernelspec": {
   "display_name": "Python 3",
   "language": "python",
   "name": "python3"
  },
  "language_info": {
   "codemirror_mode": {
    "name": "ipython",
    "version": 3
   },
   "file_extension": ".py",
   "mimetype": "text/x-python",
   "name": "python",
   "nbconvert_exporter": "python",
   "pygments_lexer": "ipython3",
   "version": "3.13.2"
  }
 },
 "nbformat": 4,
 "nbformat_minor": 2
}
